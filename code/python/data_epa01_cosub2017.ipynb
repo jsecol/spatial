{
 "cells": [
  {
   "cell_type": "markdown",
   "metadata": {},
   "source": [
    "## Using census"
   ]
  },
  {
   "cell_type": "code",
   "execution_count": 1,
   "metadata": {},
   "outputs": [],
   "source": [
    "from census import Census\n",
    "from us import states"
   ]
  },
  {
   "cell_type": "markdown",
   "metadata": {},
   "source": [
    "### 1. Initialize and test"
   ]
  },
  {
   "cell_type": "code",
   "execution_count": 5,
   "metadata": {},
   "outputs": [
    {
     "data": {
      "text/plain": [
       "[{'NAME': 'Maryland', 'B25034_010E': 129556.0, 'state': '24'}]"
      ]
     },
     "execution_count": 5,
     "metadata": {},
     "output_type": "execute_result"
    }
   ],
   "source": [
    "c = Census(\"ccbba958048dc88a5eb7f4c3293456b02f005ba9\")\n",
    "\n",
    "c.acs5.get(('NAME', 'B25034_010E'),\n",
    "          {'for': 'state:{}'.format(states.MD.fips)})"
   ]
  },
  {
   "cell_type": "markdown",
   "metadata": {},
   "source": [
    "### 2. Get data of interest for epa region 01 states"
   ]
  },
  {
   "cell_type": "code",
   "execution_count": 45,
   "metadata": {},
   "outputs": [
    {
     "data": {
      "text/plain": [
       "{'NAME': 'Stratford town, Fairfield County, Connecticut',\n",
       " 'B19019_001E': 72757.0,\n",
       " 'state': '09',\n",
       " 'county': '001',\n",
       " 'county subdivision': '74190'}"
      ]
     },
     "execution_count": 45,
     "metadata": {},
     "output_type": "execute_result"
    }
   ],
   "source": [
    "# Example for one state\n",
    "CT = c.acs5.get(('NAME', 'B19019_001E'),\n",
    "          {'for': 'county subdivision:*', 'in': 'state:09'}, year = 2017)\n",
    "CT[1]"
   ]
  },
  {
   "cell_type": "markdown",
   "metadata": {},
   "source": [
    "## Using censusdata\n",
    "\n",
    "* seems easier for D03, etc. tables\n",
    "* see: https://api.census.gov/data/2015/acs/acs5/profile/groups/DP03.html"
   ]
  },
  {
   "cell_type": "code",
   "execution_count": 1,
   "metadata": {},
   "outputs": [],
   "source": [
    "import pandas as pd\n",
    "import censusdata"
   ]
  },
  {
   "cell_type": "code",
   "execution_count": 2,
   "metadata": {},
   "outputs": [
    {
     "data": {
      "text/plain": [
       "[('DP03_0119E',\n",
       "  'SELECTED ECONOMIC CHARACTERISTICS',\n",
       "  'Estimate!!PERCENTAGE OF FAMILIES AND PEOPLE WHOSE INCOME IN THE PAST 12 MONTHS IS BELOW THE POVERTY LEVEL!!All families'),\n",
       " ('DP03_0119PE',\n",
       "  'SELECTED ECONOMIC CHARACTERISTICS',\n",
       "  'Percent Estimate!!PERCENTAGE OF FAMILIES AND PEOPLE WHOSE INCOME IN THE PAST 12 MONTHS IS BELOW THE POVERTY LEVEL!!All families'),\n",
       " ('DP03_0120E',\n",
       "  'SELECTED ECONOMIC CHARACTERISTICS',\n",
       "  'Estimate!!PERCENTAGE OF FAMILIES AND PEOPLE WHOSE INCOME IN THE PAST 12 MONTHS IS BELOW THE POVERTY LEVEL!!All families!!With related children of the householder under 18 years'),\n",
       " ('DP03_0120PE',\n",
       "  'SELECTED ECONOMIC CHARACTERISTICS',\n",
       "  'Percent Estimate!!PERCENTAGE OF FAMILIES AND PEOPLE WHOSE INCOME IN THE PAST 12 MONTHS IS BELOW THE POVERTY LEVEL!!All families!!With related children of the householder under 18 years'),\n",
       " ('DP03_0121E',\n",
       "  'SELECTED ECONOMIC CHARACTERISTICS',\n",
       "  'Estimate!!PERCENTAGE OF FAMILIES AND PEOPLE WHOSE INCOME IN THE PAST 12 MONTHS IS BELOW THE POVERTY LEVEL!!All families!!With related children of the householder under 18 years!!With related children of the householder under 5 years only'),\n",
       " ('DP03_0121PE',\n",
       "  'SELECTED ECONOMIC CHARACTERISTICS',\n",
       "  'Percent Estimate!!PERCENTAGE OF FAMILIES AND PEOPLE WHOSE INCOME IN THE PAST 12 MONTHS IS BELOW THE POVERTY LEVEL!!All families!!With related children of the householder under 18 years!!With related children of the householder under 5 years only'),\n",
       " ('DP03_0122E',\n",
       "  'SELECTED ECONOMIC CHARACTERISTICS',\n",
       "  'Estimate!!PERCENTAGE OF FAMILIES AND PEOPLE WHOSE INCOME IN THE PAST 12 MONTHS IS BELOW THE POVERTY LEVEL!!Married couple families'),\n",
       " ('DP03_0122PE',\n",
       "  'SELECTED ECONOMIC CHARACTERISTICS',\n",
       "  'Percent Estimate!!PERCENTAGE OF FAMILIES AND PEOPLE WHOSE INCOME IN THE PAST 12 MONTHS IS BELOW THE POVERTY LEVEL!!Married couple families'),\n",
       " ('DP03_0123E',\n",
       "  'SELECTED ECONOMIC CHARACTERISTICS',\n",
       "  'Estimate!!PERCENTAGE OF FAMILIES AND PEOPLE WHOSE INCOME IN THE PAST 12 MONTHS IS BELOW THE POVERTY LEVEL!!Married couple families!!With related children of the householder under 18 years'),\n",
       " ('DP03_0123PE',\n",
       "  'SELECTED ECONOMIC CHARACTERISTICS',\n",
       "  'Percent Estimate!!PERCENTAGE OF FAMILIES AND PEOPLE WHOSE INCOME IN THE PAST 12 MONTHS IS BELOW THE POVERTY LEVEL!!Married couple families!!With related children of the householder under 18 years'),\n",
       " ('DP03_0124E',\n",
       "  'SELECTED ECONOMIC CHARACTERISTICS',\n",
       "  'Estimate!!PERCENTAGE OF FAMILIES AND PEOPLE WHOSE INCOME IN THE PAST 12 MONTHS IS BELOW THE POVERTY LEVEL!!Married couple families!!With related children of the householder under 18 years!!With related children of the householder under 5 years only'),\n",
       " ('DP03_0124PE',\n",
       "  'SELECTED ECONOMIC CHARACTERISTICS',\n",
       "  'Percent Estimate!!PERCENTAGE OF FAMILIES AND PEOPLE WHOSE INCOME IN THE PAST 12 MONTHS IS BELOW THE POVERTY LEVEL!!Married couple families!!With related children of the householder under 18 years!!With related children of the householder under 5 years only'),\n",
       " ('DP03_0125E',\n",
       "  'SELECTED ECONOMIC CHARACTERISTICS',\n",
       "  'Estimate!!PERCENTAGE OF FAMILIES AND PEOPLE WHOSE INCOME IN THE PAST 12 MONTHS IS BELOW THE POVERTY LEVEL!!Families with female householder no husband present'),\n",
       " ('DP03_0125PE',\n",
       "  'SELECTED ECONOMIC CHARACTERISTICS',\n",
       "  'Percent Estimate!!PERCENTAGE OF FAMILIES AND PEOPLE WHOSE INCOME IN THE PAST 12 MONTHS IS BELOW THE POVERTY LEVEL!!Families with female householder no husband present'),\n",
       " ('DP03_0126E',\n",
       "  'SELECTED ECONOMIC CHARACTERISTICS',\n",
       "  'Estimate!!PERCENTAGE OF FAMILIES AND PEOPLE WHOSE INCOME IN THE PAST 12 MONTHS IS BELOW THE POVERTY LEVEL!!Families with female householder no husband present!!With related children of the householder under 18 years'),\n",
       " ('DP03_0126PE',\n",
       "  'SELECTED ECONOMIC CHARACTERISTICS',\n",
       "  'Percent Estimate!!PERCENTAGE OF FAMILIES AND PEOPLE WHOSE INCOME IN THE PAST 12 MONTHS IS BELOW THE POVERTY LEVEL!!Families with female householder no husband present!!With related children of the householder under 18 years'),\n",
       " ('DP03_0127E',\n",
       "  'SELECTED ECONOMIC CHARACTERISTICS',\n",
       "  'Estimate!!PERCENTAGE OF FAMILIES AND PEOPLE WHOSE INCOME IN THE PAST 12 MONTHS IS BELOW THE POVERTY LEVEL!!Families with female householder no husband present!!With related children of the householder under 18 years!!With related children of the householder under 5 years only'),\n",
       " ('DP03_0127PE',\n",
       "  'SELECTED ECONOMIC CHARACTERISTICS',\n",
       "  'Percent Estimate!!PERCENTAGE OF FAMILIES AND PEOPLE WHOSE INCOME IN THE PAST 12 MONTHS IS BELOW THE POVERTY LEVEL!!Families with female householder no husband present!!With related children of the householder under 18 years!!With related children of the householder under 5 years only'),\n",
       " ('DP03_0128E',\n",
       "  'SELECTED ECONOMIC CHARACTERISTICS',\n",
       "  'Estimate!!PERCENTAGE OF FAMILIES AND PEOPLE WHOSE INCOME IN THE PAST 12 MONTHS IS BELOW THE POVERTY LEVEL!!All people'),\n",
       " ('DP03_0128PE',\n",
       "  'SELECTED ECONOMIC CHARACTERISTICS',\n",
       "  'Percent Estimate!!PERCENTAGE OF FAMILIES AND PEOPLE WHOSE INCOME IN THE PAST 12 MONTHS IS BELOW THE POVERTY LEVEL!!All people'),\n",
       " ('DP03_0129E',\n",
       "  'SELECTED ECONOMIC CHARACTERISTICS',\n",
       "  'Estimate!!PERCENTAGE OF FAMILIES AND PEOPLE WHOSE INCOME IN THE PAST 12 MONTHS IS BELOW THE POVERTY LEVEL!!All people!!Under 18 years'),\n",
       " ('DP03_0129PE',\n",
       "  'SELECTED ECONOMIC CHARACTERISTICS',\n",
       "  'Percent Estimate!!PERCENTAGE OF FAMILIES AND PEOPLE WHOSE INCOME IN THE PAST 12 MONTHS IS BELOW THE POVERTY LEVEL!!All people!!Under 18 years'),\n",
       " ('DP03_0130E',\n",
       "  'SELECTED ECONOMIC CHARACTERISTICS',\n",
       "  'Estimate!!PERCENTAGE OF FAMILIES AND PEOPLE WHOSE INCOME IN THE PAST 12 MONTHS IS BELOW THE POVERTY LEVEL!!All people!!Under 18 years!!Related children of the householder under 18 years'),\n",
       " ('DP03_0130PE',\n",
       "  'SELECTED ECONOMIC CHARACTERISTICS',\n",
       "  'Percent Estimate!!PERCENTAGE OF FAMILIES AND PEOPLE WHOSE INCOME IN THE PAST 12 MONTHS IS BELOW THE POVERTY LEVEL!!All people!!Under 18 years!!Related children of the householder under 18 years'),\n",
       " ('DP03_0131E',\n",
       "  'SELECTED ECONOMIC CHARACTERISTICS',\n",
       "  'Estimate!!PERCENTAGE OF FAMILIES AND PEOPLE WHOSE INCOME IN THE PAST 12 MONTHS IS BELOW THE POVERTY LEVEL!!All people!!Under 18 years!!Related children of the householder under 18 years!!Related children of the householder under 5 years'),\n",
       " ('DP03_0131PE',\n",
       "  'SELECTED ECONOMIC CHARACTERISTICS',\n",
       "  'Percent Estimate!!PERCENTAGE OF FAMILIES AND PEOPLE WHOSE INCOME IN THE PAST 12 MONTHS IS BELOW THE POVERTY LEVEL!!All people!!Under 18 years!!Related children of the householder under 18 years!!Related children of the householder under 5 years'),\n",
       " ('DP03_0132E',\n",
       "  'SELECTED ECONOMIC CHARACTERISTICS',\n",
       "  'Estimate!!PERCENTAGE OF FAMILIES AND PEOPLE WHOSE INCOME IN THE PAST 12 MONTHS IS BELOW THE POVERTY LEVEL!!All people!!Under 18 years!!Related children of the householder under 18 years!!Related children of the householder 5 to 17 years'),\n",
       " ('DP03_0132PE',\n",
       "  'SELECTED ECONOMIC CHARACTERISTICS',\n",
       "  'Percent Estimate!!PERCENTAGE OF FAMILIES AND PEOPLE WHOSE INCOME IN THE PAST 12 MONTHS IS BELOW THE POVERTY LEVEL!!All people!!Under 18 years!!Related children of the householder under 18 years!!Related children of the householder 5 to 17 years'),\n",
       " ('DP03_0133E',\n",
       "  'SELECTED ECONOMIC CHARACTERISTICS',\n",
       "  'Estimate!!PERCENTAGE OF FAMILIES AND PEOPLE WHOSE INCOME IN THE PAST 12 MONTHS IS BELOW THE POVERTY LEVEL!!All people!!18 years and over'),\n",
       " ('DP03_0133PE',\n",
       "  'SELECTED ECONOMIC CHARACTERISTICS',\n",
       "  'Percent Estimate!!PERCENTAGE OF FAMILIES AND PEOPLE WHOSE INCOME IN THE PAST 12 MONTHS IS BELOW THE POVERTY LEVEL!!All people!!18 years and over'),\n",
       " ('DP03_0134E',\n",
       "  'SELECTED ECONOMIC CHARACTERISTICS',\n",
       "  'Estimate!!PERCENTAGE OF FAMILIES AND PEOPLE WHOSE INCOME IN THE PAST 12 MONTHS IS BELOW THE POVERTY LEVEL!!All people!!18 years and over!!18 to 64 years'),\n",
       " ('DP03_0134PE',\n",
       "  'SELECTED ECONOMIC CHARACTERISTICS',\n",
       "  'Percent Estimate!!PERCENTAGE OF FAMILIES AND PEOPLE WHOSE INCOME IN THE PAST 12 MONTHS IS BELOW THE POVERTY LEVEL!!All people!!18 years and over!!18 to 64 years'),\n",
       " ('DP03_0135E',\n",
       "  'SELECTED ECONOMIC CHARACTERISTICS',\n",
       "  'Estimate!!PERCENTAGE OF FAMILIES AND PEOPLE WHOSE INCOME IN THE PAST 12 MONTHS IS BELOW THE POVERTY LEVEL!!All people!!18 years and over!!65 years and over'),\n",
       " ('DP03_0135PE',\n",
       "  'SELECTED ECONOMIC CHARACTERISTICS',\n",
       "  'Percent Estimate!!PERCENTAGE OF FAMILIES AND PEOPLE WHOSE INCOME IN THE PAST 12 MONTHS IS BELOW THE POVERTY LEVEL!!All people!!18 years and over!!65 years and over'),\n",
       " ('DP03_0136E',\n",
       "  'SELECTED ECONOMIC CHARACTERISTICS',\n",
       "  'Estimate!!PERCENTAGE OF FAMILIES AND PEOPLE WHOSE INCOME IN THE PAST 12 MONTHS IS BELOW THE POVERTY LEVEL!!People in families'),\n",
       " ('DP03_0136PE',\n",
       "  'SELECTED ECONOMIC CHARACTERISTICS',\n",
       "  'Percent Estimate!!PERCENTAGE OF FAMILIES AND PEOPLE WHOSE INCOME IN THE PAST 12 MONTHS IS BELOW THE POVERTY LEVEL!!People in families'),\n",
       " ('DP03_0137E',\n",
       "  'SELECTED ECONOMIC CHARACTERISTICS',\n",
       "  'Estimate!!PERCENTAGE OF FAMILIES AND PEOPLE WHOSE INCOME IN THE PAST 12 MONTHS IS BELOW THE POVERTY LEVEL!!Unrelated individuals 15 years and over'),\n",
       " ('DP03_0137PE',\n",
       "  'SELECTED ECONOMIC CHARACTERISTICS',\n",
       "  'Percent Estimate!!PERCENTAGE OF FAMILIES AND PEOPLE WHOSE INCOME IN THE PAST 12 MONTHS IS BELOW THE POVERTY LEVEL!!Unrelated individuals 15 years and over')]"
      ]
     },
     "execution_count": 2,
     "metadata": {},
     "output_type": "execute_result"
    }
   ],
   "source": [
    "censusdata.search('acs5', 2017, 'label', 'poverty', tabletype='profile')"
   ]
  },
  {
   "cell_type": "code",
   "execution_count": 3,
   "metadata": {},
   "outputs": [
    {
     "data": {
      "text/html": [
       "<div>\n",
       "<style scoped>\n",
       "    .dataframe tbody tr th:only-of-type {\n",
       "        vertical-align: middle;\n",
       "    }\n",
       "\n",
       "    .dataframe tbody tr th {\n",
       "        vertical-align: top;\n",
       "    }\n",
       "\n",
       "    .dataframe thead th {\n",
       "        text-align: right;\n",
       "    }\n",
       "</style>\n",
       "<table border=\"1\" class=\"dataframe\">\n",
       "  <thead>\n",
       "    <tr style=\"text-align: right;\">\n",
       "      <th></th>\n",
       "      <th>DP03_0119PE</th>\n",
       "    </tr>\n",
       "  </thead>\n",
       "  <tbody>\n",
       "    <tr>\n",
       "      <th>count</th>\n",
       "      <td>1.730000e+02</td>\n",
       "    </tr>\n",
       "    <tr>\n",
       "      <th>mean</th>\n",
       "      <td>-1.541425e+07</td>\n",
       "    </tr>\n",
       "    <tr>\n",
       "      <th>std</th>\n",
       "      <td>1.004835e+08</td>\n",
       "    </tr>\n",
       "    <tr>\n",
       "      <th>min</th>\n",
       "      <td>-6.666667e+08</td>\n",
       "    </tr>\n",
       "    <tr>\n",
       "      <th>25%</th>\n",
       "      <td>1.600000e+00</td>\n",
       "    </tr>\n",
       "    <tr>\n",
       "      <th>50%</th>\n",
       "      <td>2.900000e+00</td>\n",
       "    </tr>\n",
       "    <tr>\n",
       "      <th>75%</th>\n",
       "      <td>4.600000e+00</td>\n",
       "    </tr>\n",
       "    <tr>\n",
       "      <th>max</th>\n",
       "      <td>2.680000e+01</td>\n",
       "    </tr>\n",
       "  </tbody>\n",
       "</table>\n",
       "</div>"
      ],
      "text/plain": [
       "        DP03_0119PE\n",
       "count  1.730000e+02\n",
       "mean  -1.541425e+07\n",
       "std    1.004835e+08\n",
       "min   -6.666667e+08\n",
       "25%    1.600000e+00\n",
       "50%    2.900000e+00\n",
       "75%    4.600000e+00\n",
       "max    2.680000e+01"
      ]
     },
     "execution_count": 3,
     "metadata": {},
     "output_type": "execute_result"
    }
   ],
   "source": [
    "poverty_allfam_pct = censusdata.download('acs5', 2017, \n",
    "                                         censusdata.censusgeo([('state', '09'), ('county subdivision', '*')]),\n",
    "                                   ['DP03_0119PE',],\n",
    "                                   tabletype='profile')\n",
    "poverty_allfam_pct.describe()"
   ]
  },
  {
   "cell_type": "code",
   "execution_count": 4,
   "metadata": {},
   "outputs": [
    {
     "data": {
      "text/html": [
       "<div>\n",
       "<style scoped>\n",
       "    .dataframe tbody tr th:only-of-type {\n",
       "        vertical-align: middle;\n",
       "    }\n",
       "\n",
       "    .dataframe tbody tr th {\n",
       "        vertical-align: top;\n",
       "    }\n",
       "\n",
       "    .dataframe thead th {\n",
       "        text-align: right;\n",
       "    }\n",
       "</style>\n",
       "<table border=\"1\" class=\"dataframe\">\n",
       "  <thead>\n",
       "    <tr style=\"text-align: right;\">\n",
       "      <th></th>\n",
       "      <th>DP03_0119PE</th>\n",
       "    </tr>\n",
       "  </thead>\n",
       "  <tbody>\n",
       "    <tr>\n",
       "      <th>Hartford town, Hartford County, Connecticut: Summary level: 060, state:09&gt; county:003&gt; county subdivision:37070</th>\n",
       "      <td>26.8</td>\n",
       "    </tr>\n",
       "    <tr>\n",
       "      <th>New London town, New London County, Connecticut: Summary level: 060, state:09&gt; county:011&gt; county subdivision:52350</th>\n",
       "      <td>25.4</td>\n",
       "    </tr>\n",
       "    <tr>\n",
       "      <th>Windham town, Windham County, Connecticut: Summary level: 060, state:09&gt; county:015&gt; county subdivision:86790</th>\n",
       "      <td>20.8</td>\n",
       "    </tr>\n",
       "    <tr>\n",
       "      <th>New Haven town, New Haven County, Connecticut: Summary level: 060, state:09&gt; county:009&gt; county subdivision:52070</th>\n",
       "      <td>20.4</td>\n",
       "    </tr>\n",
       "    <tr>\n",
       "      <th>Waterbury town, New Haven County, Connecticut: Summary level: 060, state:09&gt; county:009&gt; county subdivision:80070</th>\n",
       "      <td>20.4</td>\n",
       "    </tr>\n",
       "    <tr>\n",
       "      <th>New Britain town, Hartford County, Connecticut: Summary level: 060, state:09&gt; county:003&gt; county subdivision:50440</th>\n",
       "      <td>18.0</td>\n",
       "    </tr>\n",
       "    <tr>\n",
       "      <th>Bridgeport town, Fairfield County, Connecticut: Summary level: 060, state:09&gt; county:001&gt; county subdivision:08070</th>\n",
       "      <td>17.5</td>\n",
       "    </tr>\n",
       "    <tr>\n",
       "      <th>Ansonia town, New Haven County, Connecticut: Summary level: 060, state:09&gt; county:009&gt; county subdivision:01220</th>\n",
       "      <td>17.2</td>\n",
       "    </tr>\n",
       "    <tr>\n",
       "      <th>Winchester town, Litchfield County, Connecticut: Summary level: 060, state:09&gt; county:005&gt; county subdivision:86440</th>\n",
       "      <td>13.1</td>\n",
       "    </tr>\n",
       "    <tr>\n",
       "      <th>Norwich town, New London County, Connecticut: Summary level: 060, state:09&gt; county:011&gt; county subdivision:56270</th>\n",
       "      <td>11.4</td>\n",
       "    </tr>\n",
       "  </tbody>\n",
       "</table>\n",
       "</div>"
      ],
      "text/plain": [
       "                                                    DP03_0119PE\n",
       "Hartford town, Hartford County, Connecticut: Su...         26.8\n",
       "New London town, New London County, Connecticut...         25.4\n",
       "Windham town, Windham County, Connecticut: Summ...         20.8\n",
       "New Haven town, New Haven County, Connecticut: ...         20.4\n",
       "Waterbury town, New Haven County, Connecticut: ...         20.4\n",
       "New Britain town, Hartford County, Connecticut:...         18.0\n",
       "Bridgeport town, Fairfield County, Connecticut:...         17.5\n",
       "Ansonia town, New Haven County, Connecticut: Su...         17.2\n",
       "Winchester town, Litchfield County, Connecticut...         13.1\n",
       "Norwich town, New London County, Connecticut: S...         11.4"
      ]
     },
     "execution_count": 4,
     "metadata": {},
     "output_type": "execute_result"
    }
   ],
   "source": [
    "poverty_allfam_pct.sort_values('DP03_0119PE', ascending=False).head(10)"
   ]
  },
  {
   "cell_type": "markdown",
   "metadata": {},
   "source": [
    "### TODO: figure out how to loop data for these"
   ]
  },
  {
   "cell_type": "code",
   "execution_count": 6,
   "metadata": {},
   "outputs": [
    {
     "name": "stdout",
     "output_type": "stream",
     "text": [
      "State 1: CT\n",
      "State 2: MA\n",
      "State 3: ME\n",
      "State 4: NH\n",
      "State 5: RI\n",
      "State 6: VT\n"
     ]
    }
   ],
   "source": [
    "\n",
    "# change to fips codes\n",
    "state_ids = [\"CT\", \"MA\", \"ME\", \"NH\", \"RI\", \"VT\"]\n",
    "\n",
    "state_ids\n",
    "\n",
    "for i in range(len(state_ids)):\n",
    "    print(\"State {}: {}\".format(i + 1, state_ids[i]))\n",
    "    "
   ]
  },
  {
   "cell_type": "code",
   "execution_count": null,
   "metadata": {},
   "outputs": [],
   "source": []
  }
 ],
 "metadata": {
  "kernelspec": {
   "display_name": "Python 3",
   "language": "python",
   "name": "python3"
  },
  "language_info": {
   "codemirror_mode": {
    "name": "ipython",
    "version": 3
   },
   "file_extension": ".py",
   "mimetype": "text/x-python",
   "name": "python",
   "nbconvert_exporter": "python",
   "pygments_lexer": "ipython3",
   "version": "3.7.3"
  }
 },
 "nbformat": 4,
 "nbformat_minor": 2
}
